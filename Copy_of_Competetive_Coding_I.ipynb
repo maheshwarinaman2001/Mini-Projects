{
  "nbformat": 4,
  "nbformat_minor": 0,
  "metadata": {
    "colab": {
      "provenance": [],
      "include_colab_link": true
    },
    "kernelspec": {
      "name": "python3",
      "display_name": "Python 3"
    }
  },
  "cells": [
    {
      "cell_type": "markdown",
      "metadata": {
        "id": "view-in-github",
        "colab_type": "text"
      },
      "source": [
        "<a href=\"https://colab.research.google.com/github/maheshwarinaman2001/Mini-Projects/blob/main/Copy_of_Competetive_Coding_I.ipynb\" target=\"_parent\"><img src=\"https://colab.research.google.com/assets/colab-badge.svg\" alt=\"Open In Colab\"/></a>"
      ]
    },
    {
      "cell_type": "markdown",
      "metadata": {
        "id": "XA-b8BLzYrbe"
      },
      "source": [
        "\n",
        "# Time : 1 hour\n",
        "\n",
        "# Problem Statement"
      ]
    },
    {
      "cell_type": "markdown",
      "metadata": {
        "id": "soIV-F7Wcbp3"
      },
      "source": [
        "### A student is taking a cryptography class and has found anagrams to be very useful. Two strings are anagrams of each other if the first string's letters can be rearranged to form the second string. In other words, both strings must contain the same exact letters in the same exact frequency. For example, bacdc and dcbac are anagrams, but bacdc and dcbad are not.\n",
        "\n",
        "### The student decides on an encryption scheme that involves two large strings. The encryption is dependent on the minimum number of character deletions required to make the two strings anagrams. You need to determine this number.\n",
        "\n",
        "### Given two strings, $a$ and $b$, that may or may not be of the same length, determine the minimum number of character deletions required to make $a$ and $b$ anagrams. Any characters can be deleted from either of the strings. The strings $a$ and $b$ consist of lowercase English alphabets."
      ]
    },
    {
      "cell_type": "markdown",
      "metadata": {
        "id": "TS0zgz0PcfYz"
      },
      "source": [
        "**Example**\n",
        "\n",
        "<code>a = 'cde'</code>\n",
        "\n",
        "<code>b = 'dcf' </code>"
      ]
    },
    {
      "cell_type": "markdown",
      "metadata": {
        "id": "kxZ3mdXsckZm"
      },
      "source": [
        "### Delete $e$ from $a$ and $f$ from $b$ so that the remaining strings are $cd$ and $dc$ which are anagrams. This takes 2 character deletions."
      ]
    },
    {
      "cell_type": "markdown",
      "metadata": {
        "id": "1QlkSP3KcozS"
      },
      "source": [
        "## **Function Description**\n",
        "\n",
        "### Create a <code>makeAnagram</code> function below.\n",
        "\n",
        "### **Inputs:**\n",
        "\n",
        "### string a: a string\n",
        "\n",
        "### string b: another string\n",
        "\n",
        "### **Output:**\n",
        "\n",
        "### int: the minimum total characters that must be deleted"
      ]
    },
    {
      "cell_type": "markdown",
      "metadata": {
        "id": "-woYEa44Z-Cf"
      },
      "source": [
        "# Solution"
      ]
    },
    {
      "cell_type": "code",
      "metadata": {
        "id": "sJ6O2MtIZ9dP",
        "colab": {
          "base_uri": "https://localhost:8080/"
        },
        "outputId": "434ca536-12f6-44b0-ddc8-4b3fe5122e81"
      },
      "source": [
        "#approach 1\n",
        " \n",
        "CHARS = 26\n",
        " \n",
        "def remAnagram(str1, str2):\n",
        " \n",
        "    count1 = [0]*CHARS\n",
        "    count2 = [0]*CHARS\n",
        "\n",
        "    i = 0\n",
        "    while i < len(str1):\n",
        "        count1[ord(str1[i])-ord('a')] += 1\n",
        "        i += 1\n",
        " \n",
        "  \n",
        "    i =0\n",
        "    while i < len(str2):\n",
        "        count2[ord(str2[i])-ord('a')] += 1\n",
        "        i += 1\n",
        " \n",
        "    result = 0\n",
        "    for i in range(26):\n",
        "        result += abs(count1[i] - count2[i])\n",
        "    return result\n",
        " \n",
        "\n",
        "if __name__ == \"__main__\":\n",
        "    str1 = \"bcadeh\"\n",
        "    str2 = \"hea\"\n",
        "    print(remAnagram(str1, str2))"
      ],
      "execution_count": null,
      "outputs": [
        {
          "output_type": "stream",
          "name": "stdout",
          "text": [
            "3\n"
          ]
        }
      ]
    },
    {
      "cell_type": "code",
      "metadata": {
        "id": "COgSp7CXYczM",
        "colab": {
          "base_uri": "https://localhost:8080/"
        },
        "outputId": "b04415a5-b0ec-41f5-f576-1734c0d67199"
      },
      "source": [
        "#approach 2\n",
        "def makeAnagram(a, b):\n",
        "    buffer = [0] * 26\n",
        "    for char in a:\n",
        "        buffer[ord(char) - ord('a')] += 1\n",
        "    for char in b:\n",
        "        buffer[ord(char) - ord('a')] -= 1\n",
        "    return sum(map(abs, buffer))\n",
        "\n",
        "if __name__ == \"__main__\" :\n",
        " \n",
        "    str1 = \"bcadeh\"\n",
        "    str2 = \"hea\"\n",
        "    print(makeAnagram(str1, str2))"
      ],
      "execution_count": null,
      "outputs": [
        {
          "output_type": "stream",
          "name": "stdout",
          "text": [
            "3\n"
          ]
        }
      ]
    }
  ]
}